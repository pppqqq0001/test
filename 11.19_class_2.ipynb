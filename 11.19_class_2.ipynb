{
 "cells": [
  {
   "cell_type": "code",
   "execution_count": 1,
   "id": "881b3e52-77ee-4431-8801-319c69d72536",
   "metadata": {},
   "outputs": [],
   "source": [
    "import pandas as pd\n",
    "from sklearn.metrics import roc_curve, auc\n",
    "import matplotlib.pyplot as plt"
   ]
  },
  {
   "cell_type": "code",
   "execution_count": 3,
   "id": "3f880308-a470-4fcf-b639-bdcd9546d6a6",
   "metadata": {},
   "outputs": [
    {
     "data": {
      "text/html": [
       "<div>\n",
       "<style scoped>\n",
       "    .dataframe tbody tr th:only-of-type {\n",
       "        vertical-align: middle;\n",
       "    }\n",
       "\n",
       "    .dataframe tbody tr th {\n",
       "        vertical-align: top;\n",
       "    }\n",
       "\n",
       "    .dataframe thead th {\n",
       "        text-align: right;\n",
       "    }\n",
       "</style>\n",
       "<table border=\"1\" class=\"dataframe\">\n",
       "  <thead>\n",
       "    <tr style=\"text-align: right;\">\n",
       "      <th></th>\n",
       "      <th>真实标签</th>\n",
       "      <th>预测分数</th>\n",
       "    </tr>\n",
       "  </thead>\n",
       "  <tbody>\n",
       "    <tr>\n",
       "      <th>0</th>\n",
       "      <td>1</td>\n",
       "      <td>0.900</td>\n",
       "    </tr>\n",
       "    <tr>\n",
       "      <th>1</th>\n",
       "      <td>1</td>\n",
       "      <td>0.800</td>\n",
       "    </tr>\n",
       "    <tr>\n",
       "      <th>2</th>\n",
       "      <td>0</td>\n",
       "      <td>0.700</td>\n",
       "    </tr>\n",
       "    <tr>\n",
       "      <th>3</th>\n",
       "      <td>1</td>\n",
       "      <td>0.600</td>\n",
       "    </tr>\n",
       "    <tr>\n",
       "      <th>4</th>\n",
       "      <td>1</td>\n",
       "      <td>0.550</td>\n",
       "    </tr>\n",
       "    <tr>\n",
       "      <th>5</th>\n",
       "      <td>1</td>\n",
       "      <td>0.540</td>\n",
       "    </tr>\n",
       "    <tr>\n",
       "      <th>6</th>\n",
       "      <td>0</td>\n",
       "      <td>0.530</td>\n",
       "    </tr>\n",
       "    <tr>\n",
       "      <th>7</th>\n",
       "      <td>0</td>\n",
       "      <td>0.520</td>\n",
       "    </tr>\n",
       "    <tr>\n",
       "      <th>8</th>\n",
       "      <td>1</td>\n",
       "      <td>0.510</td>\n",
       "    </tr>\n",
       "    <tr>\n",
       "      <th>9</th>\n",
       "      <td>0</td>\n",
       "      <td>0.505</td>\n",
       "    </tr>\n",
       "  </tbody>\n",
       "</table>\n",
       "</div>"
      ],
      "text/plain": [
       "   真实标签   预测分数\n",
       "0     1  0.900\n",
       "1     1  0.800\n",
       "2     0  0.700\n",
       "3     1  0.600\n",
       "4     1  0.550\n",
       "5     1  0.540\n",
       "6     0  0.530\n",
       "7     0  0.520\n",
       "8     1  0.510\n",
       "9     0  0.505"
      ]
     },
     "execution_count": 3,
     "metadata": {},
     "output_type": "execute_result"
    }
   ],
   "source": [
    "#创建 dataframe\n",
    "data = {\n",
    "    '真实标签':[1,1,0,1,1,1,0,0,1,0,1,0,1,0,0,0,1,0,1,0],\n",
    "    '预测分数':[0.9,0.8,0.7,0.6,0.55,0.54,0.53,0.52,0.51,0.505,0.4,0.39,0.38,0.37,0.36,0.35,0.34,0.33,0.30,0.1]\n",
    "}\n",
    "df = pd.DataFrame(data)\n",
    "df.head(10)"
   ]
  },
  {
   "cell_type": "code",
   "execution_count": 11,
   "id": "dd69536b-33e2-49fd-a836-18bc927e2054",
   "metadata": {},
   "outputs": [],
   "source": [
    "df_sorted=df.sort_values(by='预测分数',ascending=False)\n",
    "\n",
    "cumulativr_tp=df_sorted['真实标签'].cumsum()\n",
    "cumulativr_fp=(1-df_sorted['真实标签']).cumsum()\n",
    "\n",
    "total_tp=cumulativr_tp.iloc[-1]\n",
    "total_fp=cumulativr_fp.iloc[-1]\n",
    "\n",
    "fpr=cumulativr_fp / total_fp\n",
    "tpr=cumulativr_tp / total_tp\n",
    "\n",
    "roc_auc=auc(fpr,tpr)"
   ]
  },
  {
   "cell_type": "code",
   "execution_count": 12,
   "id": "9b18499d-31b0-46b0-b2e9-9e9340f23f02",
   "metadata": {},
   "outputs": [
    {
     "data": {
      "image/png": "[encoded data removed]",
      "text/plain": [
       "<Figure size 576x432 with 1 Axes>"
      ]
     },
     "metadata": {
      "needs_background": "light"
     },
     "output_type": "display_data"
    }
   ],
   "source": [
    "#绘制roc曲线\n",
    "plt.figure(figsize=(8,6))\n",
    "plt.plot(fpr,tpr,color='darkorange',lw=2,label='ROC curve(area=%0.2f)'% roc_auc)\n",
    "plt.plot([0,1],[0,1],color='navy',lw=2,linestyle='--')\n",
    "plt.xlim([0.0,1.0])\n",
    "plt.ylim([0.0,1.05])\n",
    "plt.xlabel('False Positive Rate')\n",
    "plt.ylabel('True Positive Rate')\n",
    "plt.title('Receiver Operating Characteristic')\n",
    "plt.legend(loc=\"lower right\")\n",
    "plt.show()"
   ]
  },
  {
   "cell_type": "code",
   "execution_count": 13,
   "id": "c55e1b58-9eba-4c58-83f6-9443cb99015c",
   "metadata": {},
   "outputs": [
    {
     "name": "stdout",
     "output_type": "stream",
     "text": [
      "每一折的得分:[1.         0.96666667 0.93333333 0.93333333 0.96666667]\n",
      "平均得分:0.9600000000000002\n"
     ]
    },
    {
     "data": {
      "image/png": "[encoded data removed]",
      "text/plain": [
       "<Figure size 720x432 with 1 Axes>"
      ]
     },
     "metadata": {
      "needs_background": "light"
     },
     "output_type": "display_data"
    }
   ],
   "source": [
    "from sklearn.datasets import load_iris\n",
    "from sklearn.model_selection import KFold,cross_val_score \n",
    "from sklearn.ensemble import RandomForestClassifier\n",
    "# 加载数据集\n",
    "iris = load_iris() \n",
    "x=iris.data \n",
    "y= iris.target\n",
    "# 初始化随机森林分类器\n",
    "classifier =RandomForestClassifier(n_estimators=100,random_state=42)\n",
    "# 初始化K折交叉验证对象，这里以5折为例\n",
    "kf = KFold(n_splits=5, shuffle=True, random_state=42)\n",
    "#进行K折交叉验证\n",
    "scores = cross_val_score(classifier, x, y, cv=kf)\n",
    "# 打印每一折的得分以及平均得分\n",
    "print(f\"每一折的得分:{scores}\") \n",
    "print(f\"平均得分:{scores.mean()}\")\n",
    "# 可视化K折交叉验证的过程\n",
    "import matplotlib.pyplot as plt\n",
    "# 记录每一折的索引和得分\n",
    "folds = list(range(1,len(scores)+1)) \n",
    "plt.figure(figsize=(10,6))\n",
    "plt.plot(folds, scores, marker='o')\n",
    "plt.title('K-Fold Cross-Validation Scores') \n",
    "plt.xlabel('Folds') \n",
    "plt.ylabel('Accuracy') \n",
    "plt.show()"
   ]
  },
  {
   "cell_type": "code",
   "execution_count": 4,
   "id": "d9dbc15c-f90b-48c5-bc98-ceaa42a05de5",
   "metadata": {},
   "outputs": [
    {
     "name": "stdout",
     "output_type": "stream",
     "text": [
      "0.68\n"
     ]
    }
   ],
   "source": [
    "# 按照预测分数降序排序\n",
    "import pandas as pd\n",
    "from sklearn.metrics import auc\n",
    "#按照预测分数降序排序\n",
    "df_sorted = df.sort_values(by='预测分数',ascending=False)\n",
    "\n",
    "#计算累积的真正例和假正例\n",
    "cumulative_tp = df_sorted['真实标签'].cumsum()\n",
    "cumulative_fp = (1 - df_sorted['真实标签']).cumsum()\n",
    "#计算总的真正例和假正例\n",
    "total_tp = cumulative_tp.iloc[-1]\n",
    "total_fp = cumulative_fp.iloc[-1]\n",
    "\n",
    "#计算FPR和TPR\n",
    "fpr = cumulative_fp / total_fp\n",
    "tpr = cumulative_tp / total_tp\n",
    "\n",
    "#计算AUC值\n",
    "roc_auc = auc(fpr,tpr)\n",
    "print(roc_auc)"
   ]
  },
  {
   "cell_type": "code",
   "execution_count": 10,
   "id": "099b2a17-c3b0-456c-bc29-f977829ca1ea",
   "metadata": {},
   "outputs": [
    {
     "name": "stdout",
     "output_type": "stream",
     "text": [
      "斜率(权重):6.997414262384324\n",
      "截距(偏置):-9.581246597713744\n"
     ]
    }
   ],
   "source": [
    "#导入必要的库\n",
    "import numpy as np\n",
    "from sklearn.linear_model import LinearRegression \n",
    "import matplotlib.pyplot as plt\n",
    "#准备数据\n",
    "#房屋面积(平方米)作为特征\n",
    "X = np.array([[50],[70],[82],[101],[120]])#价格(万元)作为目标变量\n",
    "y= np.array([300,500,610,702,800])\n",
    "# 创建线性回归模型实例\n",
    "model= LinearRegression()\n",
    "# 训练模型\n",
    "model.fit(X,y)\n",
    "# 获取模型的斜率(权重)和截距(偏置) \n",
    "slope = model.coef_\n",
    "intercept = model.intercept_\n",
    "print(f\"斜率(权重):{slope[0]}\") \n",
    "print(f\"截距(偏置):{intercept}\")"
   ]
  },
  {
   "cell_type": "code",
   "execution_count": null,
   "id": "86fe0f9c-1539-4324-b153-4361ffe04fdc",
   "metadata": {},
   "outputs": [],
   "source": []
  },
  {
   "cell_type": "code",
   "execution_count": null,
   "id": "00830bb4-aeb2-4429-b7b5-190e1e6476b3",
   "metadata": {},
   "outputs": [],
   "source": []
  },
  {
   "cell_type": "code",
   "execution_count": null,
   "id": "2165009e-0104-4483-aef2-f39f55513a5f",
   "metadata": {},
   "outputs": [],
   "source": []
  },
  {
   "cell_type": "code",
   "execution_count": null,
   "id": "c496e440-9ca5-4edb-9518-d7b4e227438f",
   "metadata": {},
   "outputs": [],
   "source": []
  }
 ],
 "metadata": {
  "kernelspec": {
   "display_name": "Python 3 (ipykernel)",
   "language": "python",
   "name": "python3"
  },
  "language_info": {
   "codemirror_mode": {
    "name": "ipython",
    "version": 3
   },
   "file_extension": ".py",
   "mimetype": "text/x-python",
   "name": "python",
   "nbconvert_exporter": "python",
   "pygments_lexer": "ipython3",
   "version": "3.9.7"
  }
 },
 "nbformat": 4,
 "nbformat_minor": 5
}
